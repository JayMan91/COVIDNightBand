{
 "cells": [
  {
   "cell_type": "code",
   "execution_count": 1,
   "metadata": {},
   "outputs": [],
   "source": [
    "import numpy as np\n",
    "import pandas as pd\n",
    "import rasterio\n",
    "from affine import Affine\n",
    "import matplotlib.pyplot as plt\n",
    "import matplotlib.image as mping\n",
    "import matplotlib.colors as colors"
   ]
  },
  {
   "cell_type": "markdown",
   "metadata": {},
   "source": [
    "### https://automating-gis-processes.github.io/CSC18/index.html\n",
    "### https://rasterio.readthedocs.io/en/latest/quickstart.html\n",
    "### http://darribas.org/gds15/content/labs/lab_03.html"
   ]
  },
  {
   "cell_type": "markdown",
   "metadata": {},
   "source": [
    "### Each monthly tarball contains 2 files, the first one is the average DNB radiance, the second contains the number of cloud-free observations used in the average."
   ]
  },
  {
   "cell_type": "markdown",
   "metadata": {},
   "source": [
    "## The \"vcmsl\" version, that includes the stray-light corrected data, will have more data coverage toward the poles, but will be of reduced quality."
   ]
  },
  {
   "cell_type": "code",
   "execution_count": 2,
   "metadata": {},
   "outputs": [],
   "source": [
    "file_in = 'SVDNB/SVDNB_npp_20191201-20191231_75N060E_vcmcfg_v10_c202001140900/SVDNB_npp_20191201-20191231_75N060E_vcmcfg_v10_c202001140900.avg_rade9h.tif'"
   ]
  },
  {
   "cell_type": "code",
   "execution_count": 3,
   "metadata": {},
   "outputs": [
    {
     "data": {
      "text/plain": [
       "1"
      ]
     },
     "execution_count": 3,
     "metadata": {},
     "output_type": "execute_result"
    }
   ],
   "source": [
    "dataset = rasterio.open(file_in)\n",
    "dataset.count"
   ]
  },
  {
   "cell_type": "code",
   "execution_count": 4,
   "metadata": {},
   "outputs": [
    {
     "data": {
      "text/plain": [
       "BoundingBox(left=59.99791666665, bottom=0.0020827333499937595, right=179.99791762665, top=75.00208333335)"
      ]
     },
     "execution_count": 4,
     "metadata": {},
     "output_type": "execute_result"
    }
   ],
   "source": [
    "dataset.bounds"
   ]
  },
  {
   "cell_type": "code",
   "execution_count": 5,
   "metadata": {},
   "outputs": [
    {
     "name": "stdout",
     "output_type": "stream",
     "text": [
      "driver GTiff\n",
      "dtype float32\n",
      "nodata None\n",
      "width 28800\n",
      "height 18000\n",
      "count 1\n",
      "crs EPSG:4326\n",
      "transform | 0.00, 0.00, 60.00|\n",
      "| 0.00,-0.00, 75.00|\n",
      "| 0.00, 0.00, 1.00|\n"
     ]
    }
   ],
   "source": [
    "for k in dataset.meta:\n",
    "    print(k,dataset.meta[k])"
   ]
  },
  {
   "cell_type": "markdown",
   "metadata": {},
   "source": [
    "## the map covers from the left -180 to the right -60 and from bottom 0 to top 75\n",
    "### I Think they are latitude and longitude"
   ]
  },
  {
   "cell_type": "code",
   "execution_count": 6,
   "metadata": {},
   "outputs": [
    {
     "data": {
      "text/plain": [
       "(18000, 28800)"
      ]
     },
     "execution_count": 6,
     "metadata": {},
     "output_type": "execute_result"
    }
   ],
   "source": [
    "dataset.height, dataset.width"
   ]
  },
  {
   "cell_type": "code",
   "execution_count": 7,
   "metadata": {},
   "outputs": [
    {
     "data": {
      "text/plain": [
       "CRS.from_epsg(4326)"
      ]
     },
     "execution_count": 7,
     "metadata": {},
     "output_type": "execute_result"
    }
   ],
   "source": [
    "dataset.crs"
   ]
  },
  {
   "cell_type": "markdown",
   "metadata": {},
   "source": [
    "## Corordinate refernce system \n",
    "https://epsg.io/ \n",
    "####  4326 is latitude , longitude..Good!"
   ]
  },
  {
   "cell_type": "code",
   "execution_count": 8,
   "metadata": {},
   "outputs": [
    {
     "data": {
      "text/plain": [
       "(18000, 28800)"
      ]
     },
     "execution_count": 8,
     "metadata": {},
     "output_type": "execute_result"
    }
   ],
   "source": [
    "band1 = dataset.read(1)\n",
    "band1.shape"
   ]
  },
  {
   "cell_type": "code",
   "execution_count": 9,
   "metadata": {},
   "outputs": [
    {
     "data": {
      "text/plain": [
       "array([[0.85, 0.84, 0.86, 0.86, 0.89, 0.91, 0.9 , 0.85, 0.85, 0.84],\n",
       "       [0.87, 0.87, 0.86, 0.85, 0.87, 0.89, 0.88, 0.87, 0.87, 0.84],\n",
       "       [0.84, 0.85, 0.85, 0.87, 0.9 , 0.88, 0.94, 0.93, 0.9 , 0.87],\n",
       "       [0.85, 0.84, 0.83, 0.86, 0.9 , 0.96, 0.96, 0.93, 0.91, 0.88],\n",
       "       [0.85, 0.86, 0.9 , 0.94, 0.97, 1.02, 0.96, 0.97, 0.91, 0.87],\n",
       "       [0.89, 0.88, 0.92, 0.97, 0.96, 0.99, 0.96, 0.94, 0.91, 0.88],\n",
       "       [0.89, 0.87, 0.93, 0.91, 0.95, 0.94, 0.91, 0.93, 0.92, 0.89],\n",
       "       [0.91, 0.9 , 0.92, 0.95, 0.96, 0.93, 0.93, 0.9 , 0.87, 0.9 ],\n",
       "       [0.89, 0.92, 0.91, 0.91, 0.93, 0.94, 0.91, 0.89, 0.89, 0.85],\n",
       "       [0.9 , 0.91, 0.91, 0.9 , 0.94, 0.94, 0.96, 0.87, 0.87, 0.85]],\n",
       "      dtype=float32)"
      ]
     },
     "execution_count": 9,
     "metadata": {},
     "output_type": "execute_result"
    }
   ],
   "source": [
    "band1[0:10,0:10]"
   ]
  },
  {
   "cell_type": "markdown",
   "metadata": {},
   "source": [
    "### A dataset’s transform is an affine transformation matrix that maps pixel locations in (row, col) coordinates to (x, y) "
   ]
  },
  {
   "cell_type": "code",
   "execution_count": 10,
   "metadata": {},
   "outputs": [
    {
     "data": {
      "text/plain": [
       "Affine(0.0041666667, 0.0, 59.99791666665,\n",
       "       0.0, -0.0041666667, 75.00208333335)"
      ]
     },
     "execution_count": 10,
     "metadata": {},
     "output_type": "execute_result"
    }
   ],
   "source": [
    "dataset.transform"
   ]
  },
  {
   "cell_type": "code",
   "execution_count": 11,
   "metadata": {},
   "outputs": [
    {
     "data": {
      "text/plain": [
       "(0.0041666667, -0.0041666667, 59.99791666665, 75.00208333335)"
      ]
     },
     "execution_count": 11,
     "metadata": {},
     "output_type": "execute_result"
    }
   ],
   "source": [
    "dataset.transform.a, dataset.transform.e, dataset.transform.c, dataset.transform.f"
   ]
  },
  {
   "cell_type": "markdown",
   "metadata": {},
   "source": [
    "# Convert to Corodinate"
   ]
  },
  {
   "cell_type": "code",
   "execution_count": 12,
   "metadata": {},
   "outputs": [
    {
     "data": {
      "text/plain": [
       "((59.99791666665, 75.00208333335), (179.99791762665, 0.0020827333499937595))"
      ]
     },
     "execution_count": 12,
     "metadata": {},
     "output_type": "execute_result"
    }
   ],
   "source": [
    "dataset.transform * (0, 0) ,dataset.transform * (dataset.width, dataset.height)"
   ]
  },
  {
   "cell_type": "code",
   "execution_count": 13,
   "metadata": {},
   "outputs": [
    {
     "data": {
      "text/plain": [
       "((59.99791666665, 74.96458333305),\n",
       " (59.99791666665, 0.0020827333499937595),\n",
       " (179.99791762665, 75.00208333335))"
      ]
     },
     "execution_count": 13,
     "metadata": {},
     "output_type": "execute_result"
    }
   ],
   "source": [
    "dataset.transform * (0,9) , dataset.transform * (0,dataset.height) ,dataset.transform * (dataset.width, 0) "
   ]
  },
  {
   "cell_type": "code",
   "execution_count": 14,
   "metadata": {},
   "outputs": [
    {
     "data": {
      "text/plain": [
       "59.99791666665"
      ]
     },
     "execution_count": 14,
     "metadata": {},
     "output_type": "execute_result"
    }
   ],
   "source": [
    "(dataset.transform * (0, 0))[0]"
   ]
  },
  {
   "cell_type": "markdown",
   "metadata": {},
   "source": [
    "### each row corrsponds to a longitude\n",
    "### each column corresponds to a latitude\n"
   ]
  },
  {
   "cell_type": "code",
   "execution_count": 26,
   "metadata": {},
   "outputs": [
    {
     "name": "stdout",
     "output_type": "stream",
     "text": [
      "4800 2880 2880 4800\n"
     ]
    }
   ],
   "source": [
    "column_list = []\n",
    "longitude_list = []\n",
    "latitude_list= []\n",
    "for i in range(dataset.height):\n",
    "    l1 =(dataset.transform * (0,i))[1]\n",
    "\n",
    "    if l1<=28 and l1>= 8:\n",
    "        column_list.append(i)\n",
    "        latitude_list.append(l1)\n",
    "row_list = []      \n",
    "for j in range(dataset.height):\n",
    "    l2 =(dataset.transform * (j,0))[0]\n",
    "    if l2 <=88 and l2 >=76:\n",
    "        row_list.append(j)\n",
    "        longitude_list.append(l2)\n",
    "                \n",
    "longitude_list = np.array(longitude_list)\n",
    "latitude_list = np.array(latitude_list)\n",
    "print(len(column_list),len(row_list), len(longitude_list),len(latitude_list))"
   ]
  },
  {
   "cell_type": "code",
   "execution_count": 27,
   "metadata": {},
   "outputs": [],
   "source": [
    "row_list =  row_list[1000:1200]\n",
    "column_list = column_list[100:140]\n",
    "\n",
    "longitude_list=  longitude_list[1000:1200]\n",
    "latitude_list = latitude_list[100:140]"
   ]
  },
  {
   "cell_type": "code",
   "execution_count": 28,
   "metadata": {},
   "outputs": [],
   "source": [
    "light = band1[row_list,:][:,column_list]\n",
    "df = np.transpose([np.repeat(longitude_list, len(latitude_list)), \n",
    "              np.tile(latitude_list, len(longitude_list)),light.flatten()])"
   ]
  },
  {
   "cell_type": "code",
   "execution_count": 29,
   "metadata": {},
   "outputs": [
    {
     "data": {
      "text/plain": [
       "array([[80.16875016, 27.58124962,  0.25      ],\n",
       "       [80.16875016, 27.57708295,  0.27000001],\n",
       "       [80.16875016, 27.57291629,  0.30000001],\n",
       "       ...,\n",
       "       [80.99791683, 27.42708295,  0.28      ],\n",
       "       [80.99791683, 27.42291629,  0.28      ],\n",
       "       [80.99791683, 27.41874962,  0.30000001]])"
      ]
     },
     "execution_count": 29,
     "metadata": {},
     "output_type": "execute_result"
    }
   ],
   "source": [
    "df"
   ]
  },
  {
   "cell_type": "code",
   "execution_count": 30,
   "metadata": {},
   "outputs": [],
   "source": [
    "df = pd.DataFrame(df)\n",
    "df.columns = ['longitude','latitude','NB']\n",
    "df.to_pickle(\"data.pickle\")"
   ]
  },
  {
   "cell_type": "markdown",
   "metadata": {},
   "source": [
    "### multiply with transform to know coordinate"
   ]
  },
  {
   "cell_type": "code",
   "execution_count": 21,
   "metadata": {},
   "outputs": [
    {
     "data": {
      "text/plain": [
       "(18000, 43200)"
      ]
     },
     "execution_count": 21,
     "metadata": {},
     "output_type": "execute_result"
    }
   ],
   "source": [
    "dataset.index(0,0)"
   ]
  },
  {
   "cell_type": "code",
   "execution_count": 10,
   "metadata": {},
   "outputs": [
    {
     "name": "stdout",
     "output_type": "stream",
     "text": [
      "-60.00208237334998 75.00208333335\n",
      "0 28800\n"
     ]
    },
    {
     "data": {
      "text/plain": [
       "0.04"
      ]
     },
     "execution_count": 10,
     "metadata": {},
     "output_type": "execute_result"
    }
   ],
   "source": [
    "x, y = (dataset.bounds.right , dataset.bounds.top )\n",
    "row, col = dataset.index(x, y)\n",
    "print(x,y)\n",
    "print(row,col)\n",
    "band1[row-1, col-1]"
   ]
  },
  {
   "cell_type": "code",
   "execution_count": 41,
   "metadata": {},
   "outputs": [
    {
     "name": "stdout",
     "output_type": "stream",
     "text": [
      "driver GTiff\n",
      "dtype float32\n",
      "nodata None\n",
      "width 28800\n",
      "height 18000\n",
      "count 1\n",
      "crs EPSG:4326\n",
      "transform | 0.00, 0.00, 60.00|\n",
      "| 0.00,-0.00, 75.00|\n",
      "| 0.00, 0.00, 1.00|\n"
     ]
    }
   ],
   "source": [
    "for k in dataset.meta:\n",
    "    print(k,dataset.meta[k])"
   ]
  },
  {
   "cell_type": "code",
   "execution_count": null,
   "metadata": {},
   "outputs": [
    {
     "name": "stdout",
     "output_type": "stream",
     "text": [
      "Data minimum, maximum =  -1.02 21473.26\n"
     ]
    }
   ],
   "source": [
    "if isinstance(dataset.transform, Affine):\n",
    "     transform = dataset.transform\n",
    "else:\n",
    "     transform = dataset.affine\n",
    "\n",
    "N = dataset.width\n",
    "M = dataset.height\n",
    "dx = transform.a\n",
    "dy = transform.e\n",
    "minx = transform.c\n",
    "maxy = transform.f\n",
    "\n",
    "# Read the image data, flip upside down if necessary\n",
    "data_in = dataset.read(1)\n",
    "if dy < 0:\n",
    "  dy = -dy\n",
    "  data_in = np.flip(data_in, 0)\n",
    "\n",
    "print('Data minimum, maximum = ', np.amin(data_in), np.amax(data_in))\n",
    "\n",
    "# Generate X and Y grid locations\n",
    "xdata = minx + dx/2 + dx*np.arange(N)\n",
    "ydata = maxy - dy/2 - dy*np.arange(M-1,-1,-1)\n",
    "\n",
    "# Scale the velocities by the log of the data.\n",
    "d = np.log(np.clip(data_in, 1, 3000))\n",
    "data_scale = (255*(d - np.amin(d))/np.ptp(d)).astype(np.uint8)\n",
    "\n",
    "# Construct an RGB table using a log scale between 1 and 3000 m/year.\n",
    "vel = np.exp(np.linspace(np.log(1), np.log(3000), num=256))\n",
    "hue = np.arange(256)/255.0\n",
    "sat = np.clip(1./3 + vel/187.5, 0, 1)\n",
    "value = np.zeros(256) + 0.75\n",
    "hsv = np.stack((hue, sat, value), axis=1)\n",
    "rgb = colors.hsv_to_rgb(hsv)\n",
    "# Be sure the first color (the background) is white\n",
    "rgb[0,:] = 1\n",
    "cmap = colors.ListedColormap(rgb, name='velocity')\n",
    "\n",
    "extent = [xdata[0], xdata[-1], ydata[0], ydata[-1]]\n",
    "plt.figure(figsize=(8,8))\n",
    "fig = plt.imshow(data_scale, extent=extent, origin='lower', cmap=cmap)\n",
    "plt.title(file_in)\n",
    "# Hide the axes and remove the space around them\n",
    "plt.axis('off')\n",
    "fig.axes.get_xaxis().set_visible(False)\n",
    "fig.axes.get_yaxis().set_visible(False)\n",
    "tickval = [1, 10, 100, 1000, 3000]\n",
    "t = np.log(tickval)\n",
    "cb = plt.colorbar(fig, ticks=255*(t - t[0])/(t[-1] - t[0]), shrink=0.5)\n",
    "cb.set_label('Velocity Magnitude (m/year)')\n",
    "cb.ax.set_yticklabels(tickval)\n",
    "plt.savefig(\"python_sample.png\", dpi=300, bbox_inches='tight', pad_inches=0.5)\n",
    "plt.show()"
   ]
  },
  {
   "cell_type": "code",
   "execution_count": 11,
   "metadata": {},
   "outputs": [],
   "source": [
    "file_in = 'SVDNB/SVDNB_npp_20191201-20191231_75N180W_vcmcfg_v10_c202001140900.cf_cvg.tif'"
   ]
  },
  {
   "cell_type": "code",
   "execution_count": 15,
   "metadata": {},
   "outputs": [
    {
     "name": "stdout",
     "output_type": "stream",
     "text": [
      "driver GTiff\n",
      "dtype uint16\n",
      "nodata None\n",
      "width 28800\n",
      "height 18000\n",
      "count 1\n",
      "crs EPSG:4326\n",
      "transform | 0.00, 0.00,-180.00|\n",
      "| 0.00,-0.00, 75.00|\n",
      "| 0.00, 0.00, 1.00|\n",
      "Bounds BoundingBox(left=-180.00208333335, bottom=0.0020827333499937595, right=-60.00208237334998, top=75.00208333335)\n"
     ]
    }
   ],
   "source": [
    "dataset = rasterio.open(file_in)\n",
    "for k in dataset.meta:\n",
    "    print(k,dataset.meta[k])\n",
    "print(\"Bounds {}\".format(dataset.bounds))"
   ]
  },
  {
   "cell_type": "code",
   "execution_count": 17,
   "metadata": {},
   "outputs": [
    {
     "name": "stdout",
     "output_type": "stream",
     "text": [
      "(18000, 28800)\n"
     ]
    },
    {
     "data": {
      "text/plain": [
       "array([[42, 41, 41, 42, 43, 43, 43, 43, 42, 42],\n",
       "       [42, 41, 42, 42, 43, 43, 43, 43, 42, 42],\n",
       "       [41, 41, 42, 42, 41, 40, 41, 41, 41, 42],\n",
       "       [41, 41, 41, 41, 40, 40, 40, 40, 40, 40],\n",
       "       [41, 41, 40, 40, 40, 40, 40, 40, 40, 40],\n",
       "       [40, 40, 40, 40, 41, 41, 41, 41, 41, 41],\n",
       "       [41, 41, 41, 41, 41, 41, 41, 41, 41, 40],\n",
       "       [41, 41, 41, 41, 41, 41, 41, 41, 41, 40],\n",
       "       [41, 41, 41, 41, 41, 41, 41, 41, 41, 40],\n",
       "       [40, 40, 41, 41, 41, 41, 41, 41, 41, 41]], dtype=uint16)"
      ]
     },
     "execution_count": 17,
     "metadata": {},
     "output_type": "execute_result"
    }
   ],
   "source": [
    "band1 = dataset.read(1)\n",
    "print(band1.shape)\n",
    "band1[0:10,0:10]"
   ]
  },
  {
   "cell_type": "markdown",
   "metadata": {},
   "source": [
    "### geopandas:  https://geopandas.org/gallery/index.html"
   ]
  },
  {
   "cell_type": "code",
   "execution_count": null,
   "metadata": {},
   "outputs": [],
   "source": []
  }
 ],
 "metadata": {
  "kernelspec": {
   "display_name": "Python 3",
   "language": "python",
   "name": "python3"
  },
  "language_info": {
   "codemirror_mode": {
    "name": "ipython",
    "version": 3
   },
   "file_extension": ".py",
   "mimetype": "text/x-python",
   "name": "python",
   "nbconvert_exporter": "python",
   "pygments_lexer": "ipython3",
   "version": "3.7.3"
  }
 },
 "nbformat": 4,
 "nbformat_minor": 2
}
